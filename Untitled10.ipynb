{
 "cells": [
  {
   "cell_type": "code",
   "execution_count": 1,
   "metadata": {
    "collapsed": false
   },
   "outputs": [
    {
     "name": "stdout",
     "output_type": "stream",
     "text": [
      "         asin                              description  \\\n",
      "0  0077614992  This is an example pfuckfuckroduct description.   \n",
      "\n",
      "                                     title  \\\n",
      "0  Principles of Mgmt + Oper-CSUF Custom C   \n",
      "\n",
      "                                               imUrl  \\\n",
      "0  http://ecx.images-amazon.com/images/I/51G%2BRq...   \n",
      "\n",
      "                                             related  \\\n",
      "0  {'also_bought': ['0471730726', '0132834871', '...   \n",
      "\n",
      "                            salesRank                  categories  price brand  \n",
      "0  {'Health & Personal Care': 168429}  [[Health & Personal Care]]    NaN   NaN  \n",
      "      reviewerID        asin reviewerName helpful  \\\n",
      "0  ARMDSTEI0Z7YW  0077614992         dodo  [0, 0]   \n",
      "\n",
      "                                          reviewText  overall summary  \\\n",
      "0  This book was a requirement for a college clas...      5.0   great   \n",
      "\n",
      "   unixReviewTime   reviewTime  \n",
      "0      1360886400  02 15, 2013  \n",
      "finish\n"
     ]
    }
   ],
   "source": [
    "import os\n",
    "import pandas as pd \n",
    "import numpy as np\n",
    "import operator\n",
    "from ast import literal_eval\n",
    "import gzip \n",
    "\n",
    "### run by python3\n",
    "\n",
    "os.chdir('/Users/Guang/Downloads/')\n",
    "\n",
    "\n",
    "def parse(path):\n",
    "  g = gzip.open(path, 'rb')\n",
    "  for l in g:\n",
    "    yield eval(l)\n",
    "\n",
    "def getDF(path):\n",
    "  i = 0\n",
    "  df = {}\n",
    "  for d in parse(path):\n",
    "    df[i] = d\n",
    "    i += 1\n",
    "  return pd.DataFrame.from_dict(df, orient='index')\n",
    "\n",
    "\n",
    "\n",
    "### Create dataframe for both meta-data and reviews  \n",
    "df1 = getDF('amazonproject/meta_health_strict.json.gz') \n",
    "\n",
    "df2 = getDF('amazonproject/reviews_Health_and_Personal_Care.json.gz')  \n",
    "\n",
    "print(df1.head(1))\n",
    "print(df2.head(1))\n",
    "print('finish')"
   ]
  },
  {
   "cell_type": "code",
   "execution_count": 2,
   "metadata": {
    "collapsed": false
   },
   "outputs": [
    {
     "name": "stdout",
     "output_type": "stream",
     "text": [
      "a\n"
     ]
    }
   ],
   "source": [
    "print(\"a\")"
   ]
  },
  {
   "cell_type": "code",
   "execution_count": null,
   "metadata": {
    "collapsed": true
   },
   "outputs": [],
   "source": []
  }
 ],
 "metadata": {
  "kernelspec": {
   "display_name": "Python 3",
   "language": "python",
   "name": "python3"
  },
  "language_info": {
   "codemirror_mode": {
    "name": "ipython",
    "version": 3
   },
   "file_extension": ".py",
   "mimetype": "text/x-python",
   "name": "python",
   "nbconvert_exporter": "python",
   "pygments_lexer": "ipython3",
   "version": "3.6.1"
  }
 },
 "nbformat": 4,
 "nbformat_minor": 2
}
